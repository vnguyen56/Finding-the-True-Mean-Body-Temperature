{
 "cells": [
  {
   "cell_type": "markdown",
   "metadata": {},
   "source": [
    "# What is the True Normal Human Body Temperature? \n",
    "\n",
    "#### Background\n",
    "\n",
    "The mean normal body temperature was held to be 37$^{\\circ}$C or 98.6$^{\\circ}$F for more than 120 years since it was first conceptualized and reported by Carl Wunderlich in a famous 1868 book. But, is this value statistically correct?"
   ]
  },
  {
   "cell_type": "markdown",
   "metadata": {},
   "source": [
    "<h3>Exercises</h3>\n",
    "\n",
    "<p>In this exercise, you will analyze a dataset of human body temperatures and employ the concepts of hypothesis testing, confidence intervals, and statistical significance.</p>\n",
    "\n",
    "<p>Answer the following questions <b>in this notebook below and submit to your Github account</b>.</p> \n",
    "\n",
    "<ol>\n",
    "<li>  Is the distribution of body temperatures normal? \n",
    "    <ul>\n",
    "    <li> Although this is not a requirement for the Central Limit Theorem to hold (read the introduction on Wikipedia's page about the CLT carefully: https://en.wikipedia.org/wiki/Central_limit_theorem), it gives us some peace of mind that the population may also be normally distributed if we assume that this sample is representative of the population.\n",
    "    <li> Think about the way you're going to check for the normality of the distribution. Graphical methods are usually used first, but there are also other ways: https://en.wikipedia.org/wiki/Normality_test\n",
    "    </ul>\n",
    "<li>  Is the sample size large? Are the observations independent?\n",
    "    <ul>\n",
    "    <li> Remember that this is a condition for the Central Limit Theorem, and hence the statistical tests we are using, to apply.\n",
    "    </ul>\n",
    "<li>  Is the true population mean really 98.6 degrees F?\n",
    "    <ul>\n",
    "    <li> First, try a bootstrap hypothesis test.\n",
    "    <li> Now, let's try frequentist statistical testing. Would you use a one-sample or two-sample test? Why?\n",
    "    <li> In this situation, is it appropriate to use the $t$ or $z$ statistic? \n",
    "    <li> Now try using the other test. How is the result be different? Why?\n",
    "    </ul>\n",
    "<li>  Draw a small sample of size 10 from the data and repeat both frequentist tests. \n",
    "    <ul>\n",
    "    <li> Which one is the correct one to use? \n",
    "    <li> What do you notice? What does this tell you about the difference in application of the $t$ and $z$ statistic?\n",
    "    </ul>\n",
    "<li>  At what temperature should we consider someone's temperature to be \"abnormal\"?\n",
    "    <ul>\n",
    "    <li> As in the previous example, try calculating everything using the boostrap approach, as well as the frequentist approach.\n",
    "    <li> Start by computing the margin of error and confidence interval. When calculating the confidence interval, keep in mind that you should use the appropriate formula for one draw, and not N draws.\n",
    "    </ul>\n",
    "<li>  Is there a significant difference between males and females in normal temperature?\n",
    "    <ul>\n",
    "    <li> What testing approach did you use and why?\n",
    "    <li> Write a story with your conclusion in the context of the original problem.\n",
    "    </ul>\n",
    "</ol>\n",
    "\n",
    "You can include written notes in notebook cells using Markdown: \n",
    "   - In the control panel at the top, choose Cell > Cell Type > Markdown\n",
    "   - Markdown syntax: http://nestacms.com/docs/creating-content/markdown-cheat-sheet\n",
    "\n",
    "#### Resources\n",
    "\n",
    "+ Information and data sources: http://www.amstat.org/publications/jse/datasets/normtemp.txt, http://www.amstat.org/publications/jse/jse_data_archive.htm\n",
    "+ Markdown syntax: http://nestacms.com/docs/creating-content/markdown-cheat-sheet\n",
    "\n",
    "****"
   ]
  },
  {
   "cell_type": "code",
   "execution_count": 75,
   "metadata": {},
   "outputs": [],
   "source": [
    "import pandas as pd\n",
    "import matplotlib.pyplot as plt\n",
    "import numpy as np\n",
    "import seaborn as sns\n",
    "from scipy import stats\n",
    "\n",
    "df = pd.read_csv('data/human_body_temperature.csv')"
   ]
  },
  {
   "cell_type": "code",
   "execution_count": 5,
   "metadata": {},
   "outputs": [
    {
     "data": {
      "text/html": [
       "<div>\n",
       "<style scoped>\n",
       "    .dataframe tbody tr th:only-of-type {\n",
       "        vertical-align: middle;\n",
       "    }\n",
       "\n",
       "    .dataframe tbody tr th {\n",
       "        vertical-align: top;\n",
       "    }\n",
       "\n",
       "    .dataframe thead th {\n",
       "        text-align: right;\n",
       "    }\n",
       "</style>\n",
       "<table border=\"1\" class=\"dataframe\">\n",
       "  <thead>\n",
       "    <tr style=\"text-align: right;\">\n",
       "      <th></th>\n",
       "      <th>temperature</th>\n",
       "      <th>gender</th>\n",
       "      <th>heart_rate</th>\n",
       "    </tr>\n",
       "  </thead>\n",
       "  <tbody>\n",
       "    <tr>\n",
       "      <th>59</th>\n",
       "      <td>97.6</td>\n",
       "      <td>M</td>\n",
       "      <td>73.0</td>\n",
       "    </tr>\n",
       "    <tr>\n",
       "      <th>103</th>\n",
       "      <td>99.4</td>\n",
       "      <td>F</td>\n",
       "      <td>77.0</td>\n",
       "    </tr>\n",
       "    <tr>\n",
       "      <th>94</th>\n",
       "      <td>97.8</td>\n",
       "      <td>M</td>\n",
       "      <td>58.0</td>\n",
       "    </tr>\n",
       "    <tr>\n",
       "      <th>64</th>\n",
       "      <td>98.7</td>\n",
       "      <td>F</td>\n",
       "      <td>65.0</td>\n",
       "    </tr>\n",
       "    <tr>\n",
       "      <th>44</th>\n",
       "      <td>99.0</td>\n",
       "      <td>F</td>\n",
       "      <td>79.0</td>\n",
       "    </tr>\n",
       "    <tr>\n",
       "      <th>5</th>\n",
       "      <td>99.2</td>\n",
       "      <td>M</td>\n",
       "      <td>83.0</td>\n",
       "    </tr>\n",
       "    <tr>\n",
       "      <th>91</th>\n",
       "      <td>100.0</td>\n",
       "      <td>F</td>\n",
       "      <td>78.0</td>\n",
       "    </tr>\n",
       "    <tr>\n",
       "      <th>81</th>\n",
       "      <td>98.0</td>\n",
       "      <td>M</td>\n",
       "      <td>67.0</td>\n",
       "    </tr>\n",
       "    <tr>\n",
       "      <th>113</th>\n",
       "      <td>99.1</td>\n",
       "      <td>F</td>\n",
       "      <td>74.0</td>\n",
       "    </tr>\n",
       "    <tr>\n",
       "      <th>89</th>\n",
       "      <td>98.1</td>\n",
       "      <td>M</td>\n",
       "      <td>73.0</td>\n",
       "    </tr>\n",
       "  </tbody>\n",
       "</table>\n",
       "</div>"
      ],
      "text/plain": [
       "     temperature gender  heart_rate\n",
       "59          97.6      M        73.0\n",
       "103         99.4      F        77.0\n",
       "94          97.8      M        58.0\n",
       "64          98.7      F        65.0\n",
       "44          99.0      F        79.0\n",
       "5           99.2      M        83.0\n",
       "91         100.0      F        78.0\n",
       "81          98.0      M        67.0\n",
       "113         99.1      F        74.0\n",
       "89          98.1      M        73.0"
      ]
     },
     "execution_count": 5,
     "metadata": {},
     "output_type": "execute_result"
    }
   ],
   "source": [
    "# looking at the data\n",
    "df.sample(10)"
   ]
  },
  {
   "cell_type": "markdown",
   "metadata": {
    "collapsed": true
   },
   "source": [
    "### Is the distribution of body temperature normal?"
   ]
  },
  {
   "cell_type": "code",
   "execution_count": 83,
   "metadata": {},
   "outputs": [
    {
     "data": {
      "image/png": "[encoded data removed]",
      "text/plain": [
       "<Figure size 432x288 with 1 Axes>"
      ]
     },
     "metadata": {},
     "output_type": "display_data"
    }
   ],
   "source": [
    "#look at the histogram and CDF of data\n",
    "sns.set()\n",
    "temp = sorted(df['temperature'])\n",
    "fit = stats.norm.pdf(temp, np.mean(temp), np.std(temp))\n",
    "_ = plt.hist(temp, bins=12, density=True)\n",
    "_ = plt.plot(temp, fit)\n",
    "plt.xlabel('Temperature (F)')\n",
    "plt.ylabel('Frequency')\n",
    "plt.legend(['Theoretical', 'Observed'])\n",
    "plt.show()"
   ]
  },
  {
   "cell_type": "code",
   "execution_count": 84,
   "metadata": {},
   "outputs": [
    {
     "data": {
      "image/png": "[encoded data removed]",
      "text/plain": [
       "<Figure size 432x288 with 1 Axes>"
      ]
     },
     "metadata": {},
     "output_type": "display_data"
    }
   ],
   "source": [
    "#CDF\n",
    "#ecdf\n",
    "def ecdf(data):\n",
    "    \"\"\"Compute ECDF for a one-dimensional array of measurements.\"\"\"\n",
    "    # Number of data points: n\n",
    "    n = len(data)\n",
    "    # x-data for the ECDF: x\n",
    "    x = np.sort(data)\n",
    "    # y-data for the ECDF: y\n",
    "    y = np.arange(1, n+1) / n\n",
    "    return x, y\n",
    "\n",
    "#Find mean and std\n",
    "mu = np.mean(df['temperature'])\n",
    "sigma = np.std(df['temperature'])\n",
    "\n",
    "samples = np.random.normal(mu, sigma, 10000)\n",
    "x_theor, y_theor = ecdf(samples)\n",
    "x, y = ecdf(df['temperature'])\n",
    "\n",
    "_ = plt.plot(x_theor, y_theor)\n",
    "_ = plt.plot(x, y, marker='.', linestyle='none')\n",
    "_ = plt.xlabel('Temperature')\n",
    "_ = plt.ylabel('CDF')\n",
    "_ = plt.legend(['Theoretical', 'Observed'])\n",
    "plt.show()"
   ]
  },
  {
   "cell_type": "markdown",
   "metadata": {},
   "source": [
    "Looking at the histogram and CDF of the data, the body temperature data seems approximately normal."
   ]
  },
  {
   "cell_type": "markdown",
   "metadata": {},
   "source": [
    "### Is the sample size large? Are the observations independent?"
   ]
  },
  {
   "cell_type": "code",
   "execution_count": 17,
   "metadata": {},
   "outputs": [
    {
     "data": {
      "text/plain": [
       "(130, 3)"
      ]
     },
     "execution_count": 17,
     "metadata": {},
     "output_type": "execute_result"
    }
   ],
   "source": [
    "df.shape"
   ]
  },
  {
   "cell_type": "markdown",
   "metadata": {},
   "source": [
    "With 130 records, we can deduce that the sample size is large. We assume that the observations are independent, as the data was recorded on different human subjects. Each observation has different genders and heart rates."
   ]
  },
  {
   "cell_type": "markdown",
   "metadata": {},
   "source": [
    "### Is the true population mean really 98.6 degrees F?"
   ]
  },
  {
   "cell_type": "markdown",
   "metadata": {},
   "source": [
    "We'll perform a bootstrap hypothesis test. Our null hypothesis is that the true population mean does not differ from our observational sample mean, 98.6 degrees F. \n",
    "\n",
    "Because we will be doing *two-tailed* hypothesis testing, any p-value less than **0.25** will lead to a conclusion of statistically significant"
   ]
  },
  {
   "cell_type": "code",
   "execution_count": 40,
   "metadata": {},
   "outputs": [],
   "source": [
    "#draw bs replicates func\n",
    "def draw_bs_reps(data, func, size=1):\n",
    "    \"\"\"Draw bootstrap replicates.\"\"\"\n",
    "\n",
    "    # Initialize array of replicates: bs_replicates\n",
    "    bs_replicates = np.empty([size])\n",
    "    \n",
    "    # Generate replicates\n",
    "    for i in range(size):\n",
    "        bs_replicates[i] = bootstrap_replicate_1d(data, func)\n",
    "\n",
    "    return bs_replicates\n",
    "\n",
    "def bootstrap_replicate_1d(data, func):\n",
    "    return func(np.random.choice(data, size=len(data)))"
   ]
  },
  {
   "cell_type": "code",
   "execution_count": 112,
   "metadata": {},
   "outputs": [
    {
     "name": "stdout",
     "output_type": "stream",
     "text": [
      "p =  0.0\n"
     ]
    }
   ],
   "source": [
    "temp = df['temperature']\n",
    "translated_temp = temp - np.mean(temp) + 98.6\n",
    "bs_replicates = draw_bs_reps(translated_temp, np.mean, 10000)\n",
    "p = np.sum(bs_replicates <= np.mean(temp)) / 10000\n",
    "print('p = ', p)"
   ]
  },
  {
   "cell_type": "markdown",
   "metadata": {},
   "source": [
    "Since we have such a low p-value, that means that we can reject our null hypothesis. The true population mean does differ from 98.6 degrees F. We can try using either a one sample Z test or a T test. "
   ]
  },
  {
   "cell_type": "code",
   "execution_count": 48,
   "metadata": {},
   "outputs": [
    {
     "name": "stdout",
     "output_type": "stream",
     "text": [
      "134.52205700681014 0.0\n"
     ]
    }
   ],
   "source": [
    "#ztest\n",
    "from statsmodels.stats.weightstats import ztest\n",
    "tstat, pval = ztest(temp, ddof = 129)\n",
    "print(tstat, pval)"
   ]
  },
  {
   "cell_type": "code",
   "execution_count": 85,
   "metadata": {},
   "outputs": [
    {
     "name": "stdout",
     "output_type": "stream",
     "text": [
      "-5.454823292364077 2.410632041561008e-07\n"
     ]
    }
   ],
   "source": [
    "#ttest\n",
    "tstat, pval = stats.ttest_1samp(temp, 98.6)\n",
    "print(tstat, pval)"
   ]
  },
  {
   "cell_type": "markdown",
   "metadata": {},
   "source": [
    "T test here is more appropriate, because although we have a large sample size, we do not know the population variance. We also get a more precise p-value through the T test. In both tests, we get a very small p-value, meaning there is a statistically significant difference between the hypothesized temperature mean and the sample mean."
   ]
  },
  {
   "cell_type": "markdown",
   "metadata": {},
   "source": [
    "### Draw a small sample of size 10 from the data and repeat both frequentist tests."
   ]
  },
  {
   "cell_type": "code",
   "execution_count": 70,
   "metadata": {},
   "outputs": [
    {
     "name": "stdout",
     "output_type": "stream",
     "text": [
      "     temperature gender  heart_rate\n",
      "56          98.8      F        70.0\n",
      "83          99.2      F        77.0\n",
      "92          98.8      F        84.0\n",
      "8           98.4      F        84.0\n",
      "40          98.4      F        79.0\n",
      "73          98.8      M        81.0\n",
      "26          97.8      F        62.0\n",
      "117         97.8      F        71.0\n",
      "57          98.2      M        66.0\n",
      "0           99.3      F        68.0\n",
      "98.54999999999998\n"
     ]
    }
   ],
   "source": [
    "df_sample = df.sample(10)\n",
    "print(df_sample)\n",
    "print(np.mean(df_sample['temperature']))"
   ]
  },
  {
   "cell_type": "code",
   "execution_count": 71,
   "metadata": {},
   "outputs": [
    {
     "name": "stdout",
     "output_type": "stream",
     "text": [
      "198.49435796008876 0.0\n"
     ]
    }
   ],
   "source": [
    "#ztest\n",
    "tstat, pval = ztest(df_sample['temperature'], ddof = 9)\n",
    "print(tstat, pval)"
   ]
  },
  {
   "cell_type": "code",
   "execution_count": 88,
   "metadata": {},
   "outputs": [
    {
     "ename": "SyntaxError",
     "evalue": "invalid syntax (<ipython-input-88-4e181e60c576>, line 3)",
     "output_type": "error",
     "traceback": [
      "\u001b[0;36m  File \u001b[0;32m\"<ipython-input-88-4e181e60c576>\"\u001b[0;36m, line \u001b[0;32m3\u001b[0m\n\u001b[0;31m    print(tstat, %6.9F pval)\u001b[0m\n\u001b[0m                 ^\u001b[0m\n\u001b[0;31mSyntaxError\u001b[0m\u001b[0;31m:\u001b[0m invalid syntax\n"
     ]
    }
   ],
   "source": [
    "#ttest\n",
    "tstat, pval = sci.ttest_1samp(df_sample['temperature'], 98.6)\n",
    "print(tstat, pval)"
   ]
  },
  {
   "cell_type": "markdown",
   "metadata": {},
   "source": [
    "The z test tells us we have a p-value of 0.0, meaning there is a statistically significant difference of the means. However, the t test tells us we have a p-value of 0.769, meaning there is *NOT* statistically significant difference of the means. The sample mean here is 98.55 degrees F, which does not seem like a significant differene from the hypothesized mean of 98.6 degrees F. It is more appropriate to use the t test. The z test can only be performed on a large sample size."
   ]
  },
  {
   "cell_type": "markdown",
   "metadata": {},
   "source": [
    "### At what temperature should we consider someone's temperature to be \"abnormal\"?\n"
   ]
  },
  {
   "cell_type": "markdown",
   "metadata": {},
   "source": [
    "To determine this, we need to find the margins of error and a confidence interval for the mean temperature. Whatever body temperature lies outside of these margins/interval can be considered as abnormal. We will use a 95% confidence interval."
   ]
  },
  {
   "cell_type": "code",
   "execution_count": 104,
   "metadata": {},
   "outputs": [
    {
     "name": "stdout",
     "output_type": "stream",
     "text": [
      "Sample Mean Human Body Temperature:  98.24923076923078\n",
      "Margin of Error:  0.12555096480257902\n",
      "Confidence Interval:  [98.12367980442819, 98.37478173403336] degrees F\n"
     ]
    }
   ],
   "source": [
    "#Margin of Error\n",
    "import math\n",
    "z = 1.96\n",
    "mu = np.mean(temp)\n",
    "sigma = np.std(temp)\n",
    "n = 130\n",
    "print('Sample Mean Human Body Temperature: ', mu)\n",
    "\n",
    "marg_error = z * sigma / math.sqrt(n)\n",
    "print('Margin of Error: ', marg_error)\n",
    "\n",
    "conf_inter = [mu-marg_error, mu+marg_error]\n",
    "print('Confidence Interval: ', conf_inter, 'degrees F')"
   ]
  },
  {
   "cell_type": "code",
   "execution_count": 91,
   "metadata": {},
   "outputs": [
    {
     "name": "stdout",
     "output_type": "stream",
     "text": [
      "95% confidence interval =  [98.12307692 98.37538462] degrees F\n"
     ]
    }
   ],
   "source": [
    "#Confidence Interval\n",
    "#creating bootstrap replicates\n",
    "bs_replicates = draw_bs_reps(temp, np.mean, 10000)\n",
    "conf_int = np.percentile(bs_replicates, [2.5, 97.5])\n",
    "print('95% confidence interval = ', conf_int, 'degrees F')"
   ]
  },
  {
   "cell_type": "markdown",
   "metadata": {},
   "source": [
    "**The real population mean human body temperature** is ***98.256 +/- 0.126*** degrees F.\n",
    "\n",
    "**Normal human body temperature** lies between ***98.123 and 98.375*** degrees F.\n",
    "\n",
    "Anything outside this interval is abnormal."
   ]
  },
  {
   "cell_type": "markdown",
   "metadata": {},
   "source": [
    "### Is there a significant difference between males and females in normal temperature?"
   ]
  },
  {
   "cell_type": "markdown",
   "metadata": {},
   "source": [
    "We will group the data by gender and use a t test. We need to test if there is a significant difference between the means of the male and female human body temperature."
   ]
  },
  {
   "cell_type": "code",
   "execution_count": 111,
   "metadata": {},
   "outputs": [
    {
     "name": "stdout",
     "output_type": "stream",
     "text": [
      "Male mean body temperature:  98.1046153846154\n",
      "Female mean body temperature:  98.39384615384613\n",
      "Tstat:  -2.2854345381656103  P-value:  0.02393188312239561\n"
     ]
    }
   ],
   "source": [
    "print('Male mean body temperature: ', np.mean(df.temperature[df.gender == 'M']))\n",
    "print('Female mean body temperature: ', np.mean(df.temperature[df.gender == 'F']))\n",
    "#ttest\n",
    "tstat, pval = sci.ttest_ind(df.temperature[df.gender == 'M'],df.temperature[df.gender == 'F'])\n",
    "print('Tstat: ', tstat, ' P-value: ', pval)"
   ]
  },
  {
   "cell_type": "markdown",
   "metadata": {},
   "source": [
    "It's close, but since our p-value of 0.0239 is less than 0.25, we can say that the mean human body temperature between the genders is significantly different. However, because our p-value is so close to our target significance level, we should do another test: **bootstrap hypothesis test**."
   ]
  },
  {
   "cell_type": "code",
   "execution_count": 122,
   "metadata": {},
   "outputs": [],
   "source": [
    "#draw_perm_reps func for two samples\n",
    "def draw_perm_reps(data_1, data_2, func, size=1):\n",
    "    \"\"\"Generate multiple permutation replicates.\"\"\"\n",
    "\n",
    "    # Initialize array of replicates: perm_replicates\n",
    "    perm_replicates = np.empty([size])\n",
    "\n",
    "    for i in range(size):\n",
    "        # Generate permutation sample\n",
    "        perm_sample_1, perm_sample_2 = permutation_sample(data_1, data_2)\n",
    "\n",
    "        # Compute the test statistic\n",
    "        perm_replicates[i] = func(perm_sample_1, perm_sample_2)\n",
    "\n",
    "    return perm_replicates\n",
    "\n",
    "#diff_of_means\n",
    "def diff_of_means(data_1, data_2):\n",
    "    \"\"\"Difference in means of two arrays.\"\"\"\n",
    "\n",
    "    # The difference of means of data_1, data_2: diff\n",
    "    diff = np.mean(data_1) - np.mean(data_2)\n",
    "\n",
    "    return diff\n",
    "\n",
    "def permutation_sample(data1, data2):\n",
    "    \"\"\"Generate a permutation sample from two data sets.\"\"\"\n",
    "\n",
    "    # Concatenate the data sets: data\n",
    "    data = np.concatenate((data1, data2))\n",
    "\n",
    "    # Permute the concatenated array: permuted_data\n",
    "    permuted_data = np.random.permutation(data)\n",
    "\n",
    "    # Split the permuted array into two: perm_sample_1, perm_sample_2\n",
    "    perm_sample_1 = permuted_data[:len(data1)]\n",
    "    perm_sample_2 = permuted_data[len(data1):]\n",
    "\n",
    "    return perm_sample_1, perm_sample_2"
   ]
  },
  {
   "cell_type": "code",
   "execution_count": 124,
   "metadata": {},
   "outputs": [
    {
     "name": "stdout",
     "output_type": "stream",
     "text": [
      "p =  0.9879\n"
     ]
    }
   ],
   "source": [
    "#bs hypothesis testing\n",
    "sample_diff_of_means = diff_of_means(df.temperature[df.gender == 'M'], df.temperature[df.gender == 'F'])\n",
    "perm_replicates = draw_perm_reps(df.temperature[df.gender == 'M'], df.temperature[df.gender == 'F'],\n",
    "                                 diff_of_means, size=10000)\n",
    "p = np.sum(perm_replicates >= np.mean(sample_diff_of_means)) / 10000\n",
    "print('p = ', p)"
   ]
  },
  {
   "cell_type": "markdown",
   "metadata": {},
   "source": [
    "Here we get a very high p-value, suggesting that there is **no significant difference** between the two genders. "
   ]
  },
  {
   "cell_type": "markdown",
   "metadata": {},
   "source": [
    "## Conclusion"
   ]
  },
  {
   "cell_type": "markdown",
   "metadata": {},
   "source": [
    "120 years ago, Carl Wunderlich reported that the mean human body temperature 37 degrees C or 98.6 degrees F. This number was accepted throughout the world. Using hypothesis and frequentist testing we went forward to determine whether that number still holds today. We took a dataset that included 130 records with temperature, gender, and heartrate from the Journal of the American Medical Association.\n",
    "\n",
    "Using this dataset, we put it through thorough testing to find the **true mean human body temperature**. \n",
    "\n",
    "### Our findings:\n",
    "\n",
    "The real population mean human body temperature is ***98.256 +/- 0.126 degrees F***.\n",
    "\n",
    "Normal human body temperature lies between ***98.123 and 98.375 degrees F***.\n",
    "\n",
    "The mean body temperature is actually around 98.2 degrees F, 0.4 degrees higher than what Wunderlich had found in 1868."
   ]
  },
  {
   "cell_type": "code",
   "execution_count": null,
   "metadata": {},
   "outputs": [],
   "source": []
  }
 ],
 "metadata": {
  "kernelspec": {
   "display_name": "Python 3",
   "language": "python",
   "name": "python3"
  },
  "language_info": {
   "codemirror_mode": {
    "name": "ipython",
    "version": 3
   },
   "file_extension": ".py",
   "mimetype": "text/x-python",
   "name": "python",
   "nbconvert_exporter": "python",
   "pygments_lexer": "ipython3",
   "version": "3.6.5"
  }
 },
 "nbformat": 4,
 "nbformat_minor": 1
}
